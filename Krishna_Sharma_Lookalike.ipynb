{
  "nbformat": 4,
  "nbformat_minor": 0,
  "metadata": {
    "colab": {
      "provenance": []
    },
    "kernelspec": {
      "name": "python3",
      "display_name": "Python 3"
    },
    "language_info": {
      "name": "python"
    }
  },
  "cells": [
    {
      "cell_type": "code",
      "execution_count": 1,
      "metadata": {
        "id": "fwuQTtXvrxo-"
      },
      "outputs": [],
      "source": [
        "from sklearn.feature_extraction.text import TfidfVectorizer\n",
        "from sklearn.metrics.pairwise import cosine_similarity\n",
        "import pandas as pd\n",
        "import csv\n",
        "\n",
        "# Load the datasets\n",
        "customers = pd.read_csv(r'/home/Customers.csv')\n",
        "products = pd.read_csv(r'/home/Products.csv')\n",
        "transactions = pd.read_csv(r'/home/Transactions.csv')\n",
        "\n",
        "# Preprocess data\n",
        "merged_customers = transactions.merge(products, on='ProductID').merge(customers, on='CustomerID')\n",
        "\n",
        "# Aggregate customer-product relationship\n",
        "customer_profiles = merged_customers.groupby('CustomerID')['ProductName'].apply(lambda x: ' '.join(x)).reset_index()\n",
        "\n",
        "# Create a TF-IDF matrix for customer-product relationship\n",
        "tfidf = TfidfVectorizer()\n",
        "customer_tfidf = tfidf.fit_transform(customer_profiles['ProductName'])\n",
        "\n",
        "# Calculate cosine similarity\n",
        "similarity_matrix = cosine_similarity(customer_tfidf)\n",
        "\n",
        "# Create the Lookalike file\n",
        "lookalike_dict = {}\n",
        "for idx in range(20):  # For CustomerIDs: C0001 - C0020\n",
        "    sim_scores = list(enumerate(similarity_matrix[idx]))\n",
        "    sim_scores = sorted(sim_scores, key=lambda x: -x[1])[1:4]  # Top 3 lookalikes (excluding self)\n",
        "    lookalikes = [(customer_profiles.loc[i, 'CustomerID'], round(score, 2)) for i, score in sim_scores]\n",
        "    lookalike_dict[customer_profiles.loc[idx, 'CustomerID']] = lookalikes\n",
        "\n",
        "# Save to CSV\n",
        "with open('Lookalike.csv', 'w', newline='') as csvfile:\n",
        "    writer = csv.writer(csvfile)\n",
        "    writer.writerow(['CustomerID', 'Lookalikes'])\n",
        "    for cust_id, lookalikes in lookalike_dict.items():\n",
        "        writer.writerow([cust_id, lookalikes])\n"
      ]
    }
  ]
}